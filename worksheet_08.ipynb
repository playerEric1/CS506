{
 "cells": [
  {
   "attachments": {},
   "cell_type": "markdown",
   "metadata": {},
   "source": [
    "# Worksheet 08\n",
    "\n",
    "Name:  Qicheng Cao\n",
    "UID: U35901255\n",
    "\n",
    "### Topics\n",
    "\n",
    "- Soft Clustering\n",
    "- Clustering Aggregation\n",
    "\n",
    "### Probability Review\n",
    "\n",
    "Read through [the following](https://medium.com/@gallettilance/overview-of-probability-3272b72c82c8)\n",
    "\n",
    "### Soft Clustering\n",
    "\n",
    "We generate 10 data points that come from a normal distribution with mean 5 and variance 1."
   ]
  },
  {
   "cell_type": "code",
   "execution_count": 49,
   "metadata": {},
   "outputs": [
    {
     "name": "stdout",
     "output_type": "stream",
     "text": [
      "[4.312784431995499, 4.819053234042214, 5.351588776617883, 5.542144492630738, 5.113798050000081, 4.568588572828494, 3.0742615992971447, 6.492499757848052, 5.695800261346071, 4.367602383166383]\n"
     ]
    }
   ],
   "source": [
    "import random\n",
    "import numpy as np\n",
    "from sklearn.cluster import KMeans\n",
    "\n",
    "mean = 5\n",
    "stdev = 1\n",
    "\n",
    "s1 = np.random.normal(mean, stdev, 10).tolist()\n",
    "print(s1)"
   ]
  },
  {
   "cell_type": "markdown",
   "metadata": {},
   "source": [
    "a) Generate 10 more data points, this time coming from a normal distribution with mean 8 and variance 1."
   ]
  },
  {
   "cell_type": "code",
   "execution_count": 50,
   "metadata": {},
   "outputs": [
    {
     "name": "stdout",
     "output_type": "stream",
     "text": [
      "[7.951054170476731, 7.032938636539395, 9.053770558019842, 6.471988329837584, 7.502991596004283, 7.137410969032196, 8.495094444215672, 9.639971592461217, 7.674638271018117, 8.80149864699442]\n"
     ]
    }
   ],
   "source": [
    "s2 = np.random.normal(8, 1, 10).tolist()\n",
    "print(s2)"
   ]
  },
  {
   "cell_type": "markdown",
   "metadata": {},
   "source": [
    "b) Flip a fair coin 10 times. If the coin lands on H, then pick the last data point of `c1` and remove it from `c1`, if T then pick the last data point from `c2` and remove it from `c2`. Add these 10 points to a list called `data`."
   ]
  },
  {
   "cell_type": "code",
   "execution_count": 51,
   "metadata": {},
   "outputs": [
    {
     "name": "stdout",
     "output_type": "stream",
     "text": [
      "[8.80149864699442, 4.367602383166383, 7.674638271018117, 5.695800261346071, 6.492499757848052, 3.0742615992971447, 4.568588572828494, 5.113798050000081, 9.639971592461217, 8.495094444215672]\n"
     ]
    }
   ],
   "source": [
    "data = []\n",
    "for i in range(10):\n",
    "    # flip coin\n",
    "    coin_output = random.choice([0, 1])\n",
    "    if coin_output == 0:\n",
    "        p1 = s1.pop()\n",
    "        data.append(p1)\n",
    "    else:\n",
    "        p2 = s2.pop()\n",
    "        data.append(p2)\n",
    "print(data)"
   ]
  },
  {
   "cell_type": "markdown",
   "metadata": {},
   "source": [
    "c) This `data` is a Gaussian Mixture Distribution with 2 mixture components. Over the next few questions we will walk through the GMM algorithm to see if we can uncover the parameters we used to generate this data. First, please list all these parameters of the GMM that created `data` and the values we know they have."
   ]
  },
  {
   "cell_type": "markdown",
   "metadata": {},
   "source": [
    "Mean\n",
    "\n",
    "Variance\n",
    "\n",
    "$P(S_j)$"
   ]
  },
  {
   "cell_type": "markdown",
   "metadata": {},
   "source": [
    "d) Let's assume there are two mixture components (note: we could plot the data and make the observation that there are two clusters). The EM algorithm asks us to start with a random `mean_j`, `variance_j`, `P(S_j)` for each component j. One method we could use to find sensible values for these is to apply K means with k=2 here.\n",
    "\n",
    "1. the centroids would be the estimates of the `mean_j`\n",
    "2. the intra-cluster variance could be the estimate of `variance_j`\n",
    "3. the proportion of points in each cluster could be the estimate of `P(S_j)`\n",
    "\n",
    "Go through this process and list the parameter estimates it gives. Are they close or far from the true values?"
   ]
  },
  {
   "cell_type": "code",
   "execution_count": 52,
   "metadata": {},
   "outputs": [
    {
     "name": "stdout",
     "output_type": "stream",
     "text": [
      "[8.80149864699442, 7.674638271018117, 9.639971592461217, 8.495094444215672]\n",
      "[4.367602383166383, 5.695800261346071, 6.492499757848052, 3.0742615992971447, 4.568588572828494, 5.113798050000081]\n",
      "P(S_1) = 0.4,  P(S_2) = 0.6\n",
      "mean_1 = 8.652800738672356,  mean_2 = 4.885425104081038\n",
      "var_1 = 0.49457261273706843,  var_2 = 1.1567316732688524\n"
     ]
    },
    {
     "name": "stderr",
     "output_type": "stream",
     "text": [
      "/Users/luling/anaconda3/lib/python3.10/site-packages/sklearn/cluster/_kmeans.py:870: FutureWarning: The default value of `n_init` will change from 10 to 'auto' in 1.4. Set the value of `n_init` explicitly to suppress the warning\n",
      "  warnings.warn(\n"
     ]
    }
   ],
   "source": [
    "kmeans = KMeans(2, init='k-means++').fit(X=np.array(data).reshape(-1, 1))\n",
    "\n",
    "s1 = [x[0] for x in filter(lambda x: x[1] == 0, zip(data, kmeans.labels_))]\n",
    "print(s1)\n",
    "s2 = [x[0] for x in filter(lambda x: x[1] == 1, zip(data, kmeans.labels_))]\n",
    "print(s2)\n",
    "\n",
    "prob_s = [ len(s1) / (len(s1) + len(s2)) , len(s2) / (len(s1) + len(s2)) ]\n",
    "mean = [ sum(s1)/len(s1) , sum(s2)/len(s2) ]\n",
    "var = [ sum(map(lambda x : (x - mean[0])**2, s1)) / len(s1) , sum(map(lambda x : (x - mean[1])**2, s2)) / len(s2) ]\n",
    "\n",
    "print(\"P(S_1) = \" + str(prob_s[0]) + \",  P(S_2) = \" + str(prob_s[1]))\n",
    "print(\"mean_1 = \" + str(mean[0]) + \",  mean_2 = \" + str(mean[1]))\n",
    "print(\"var_1 = \" + str(var[0]) + \",  var_2 = \" + str(var[1]))"
   ]
  },
  {
   "cell_type": "markdown",
   "metadata": {},
   "source": [
    "Mean is close to the true value, but variance is not."
   ]
  },
  {
   "cell_type": "markdown",
   "metadata": {},
   "source": [
    "e) For each data point, compute `P(S_j | X_i)`. Comment on which cluster you think each point belongs to based on the estimated probabilities. How does that compare to the truth?"
   ]
  },
  {
   "cell_type": "code",
   "execution_count": 53,
   "metadata": {},
   "outputs": [
    {
     "name": "stdout",
     "output_type": "stream",
     "text": [
      "point =  8.80149864699442\n",
      "probability of observing that point if it came from cluster 0 =  0.7709935473498541\n",
      "probability of observing that point if it came from cluster 1 =  0.001119111071778656\n",
      "point =  4.367602383166383\n",
      "probability of observing that point if it came from cluster 0 =  4.025888173409656e-17\n",
      "probability of observing that point if it came from cluster 1 =  0.31200475167743597\n",
      "point =  7.674638271018117\n",
      "probability of observing that point if it came from cluster 0 =  0.11409650253660639\n",
      "probability of observing that point if it came from cluster 1 =  0.01884152868106249\n",
      "point =  5.695800261346071\n",
      "probability of observing that point if it came from cluster 0 =  1.3940002366990203e-08\n",
      "probability of observing that point if it came from cluster 1 =  0.26983667484379553\n",
      "point =  6.492499757848052\n",
      "probability of observing that point if it came from cluster 0 =  5.802374712572839e-05\n",
      "probability of observing that point if it came from cluster 1 =  0.13138187489176503\n",
      "point =  3.0742615992971447\n",
      "probability of observing that point if it came from cluster 0 =  1.9036584292678953e-28\n",
      "probability of observing that point if it came from cluster 1 =  0.1012322084953972\n",
      "point =  4.568588572828494\n",
      "probability of observing that point if it came from cluster 0 =  1.253689364532327e-15\n",
      "probability of observing that point if it came from cluster 1 =  0.33218957200089694\n",
      "point =  5.113798050000081\n",
      "probability of observing that point if it came from cluster 0 =  6.136627773054877e-12\n",
      "probability of observing that point if it came from cluster 1 =  0.3382309811796734\n",
      "point =  9.639971592461217\n",
      "probability of observing that point if it came from cluster 0 =  0.11004113256854312\n",
      "probability of observing that point if it came from cluster 1 =  7.396379593410375e-05\n",
      "point =  8.495094444215672\n",
      "probability of observing that point if it came from cluster 0 =  0.7666556655751035\n",
      "probability of observing that point if it came from cluster 1 =  0.002649100905273146\n",
      "8.80149864699442\n",
      "Probability of coming from S_1 = 0.9978274531200363\n",
      "Probability of coming from S_2 = 0.0021725468799636024\n",
      "\n",
      "4.367602383166383\n",
      "Probability of coming from S_1 = 8.602194147717752e-17\n",
      "Probability of coming from S_2 = 0.9999999999999999\n",
      "\n",
      "7.674638271018117\n",
      "Probability of coming from S_1 = 0.8014713954921082\n",
      "Probability of coming from S_2 = 0.19852860450789178\n",
      "\n",
      "5.695800261346071\n",
      "Probability of coming from S_1 = 3.444059113402071e-08\n",
      "Probability of coming from S_2 = 0.999999965559409\n",
      "\n",
      "6.492499757848052\n",
      "Probability of coming from S_1 = 0.00029434130285317775\n",
      "Probability of coming from S_2 = 0.9997056586971468\n",
      "\n",
      "3.0742615992971447\n",
      "Probability of coming from S_1 = 1.2536579398735865e-27\n",
      "Probability of coming from S_2 = 1.0\n",
      "\n",
      "4.568588572828494\n",
      "Probability of coming from S_1 = 2.5160118803667904e-15\n",
      "Probability of coming from S_2 = 0.9999999999999974\n",
      "\n",
      "5.113798050000081\n",
      "Probability of coming from S_1 = 1.2095536510932023e-11\n",
      "Probability of coming from S_2 = 0.9999999999879045\n",
      "\n",
      "9.639971592461217\n",
      "Probability of coming from S_1 = 0.9989927952731239\n",
      "Probability of coming from S_2 = 0.0010072047268760605\n",
      "\n",
      "8.495094444215672\n",
      "Probability of coming from S_1 = 0.9948436280964184\n",
      "Probability of coming from S_2 = 0.005156371903581664\n",
      "\n"
     ]
    }
   ],
   "source": [
    "from scipy.stats import norm\n",
    "\n",
    "prob_s0_x = [] # P(S_0 | X_i)\n",
    "prob_s1_x = [] # P(S_1 | X_i)\n",
    "prob_x = [] # P(X_i)\n",
    "\n",
    "k = 2\n",
    "\n",
    "for p in data:\n",
    "    print(\"point = \", p)\n",
    "    pdf_i = []\n",
    "\n",
    "    for j in range(k):\n",
    "        # P(X_i | S_j)\n",
    "        pdf_i.append(norm.pdf(p, mean[j], var[j]))\n",
    "        print(\"probability of observing that point if it came from cluster \" + str(j) + \" = \", pdf_i[j])\n",
    "        # P(S_j) already computed\n",
    "        prob_s[j]\n",
    "\n",
    "    # P(X_i) = P(S_0)P(X_i | S_0) + P(S_1)P(X_i | S_1)\n",
    "    prob_x = prob_s[0] * pdf_i[0] + prob_s[1] * pdf_i[1]\n",
    "\n",
    "    # P(S_j | X_i) = P(X_i | S_j)P(S_j) / P(X_i)\n",
    "    prob_s0_x.append( pdf_i[0] * prob_s[0] / prob_x )\n",
    "    prob_s1_x.append( pdf_i[1] * prob_s[1] / prob_x )\n",
    "\n",
    "probs = zip(data, prob_s0_x, prob_s1_x)\n",
    "for p in probs:\n",
    "    print(p[0])\n",
    "    print(\"Probability of coming from S_1 = \" + str(p[1]))\n",
    "    print(\"Probability of coming from S_2 = \" + str(p[2]))\n",
    "    print()\n"
   ]
  },
  {
   "cell_type": "markdown",
   "metadata": {},
   "source": [
    "f) Having computed `P(S_j | X_i)`, update the estimates of `mean_j`, `var_j`, and `P(S_j)`. How different are these values from the original ones you got from K means? briefly comment."
   ]
  },
  {
   "cell_type": "code",
   "execution_count": 54,
   "metadata": {},
   "outputs": [
    {
     "name": "stdout",
     "output_type": "stream",
     "text": [
      "P(S_1) = 0.4,  P(S_2) = 0.6\n",
      "mean_1 = 8.70369218411947,  mean_2 = 4.979708252544034\n",
      "var_1 = 0.46889740623796905,  var_2 = 1.3779308363474954\n"
     ]
    }
   ],
   "source": [
    "prob_c = [sum(prob_s0_x)/ len(prob_s0_x), sum(prob_s1_x)/ len(prob_s1_x)]\n",
    "mean = [sum([x[0] * x[1] for x in zip(prob_s0_x, data)]) / sum(prob_s0_x), sum([x[0] * x[1] for x in zip(prob_s1_x, data)]) / sum(prob_s1_x)]\n",
    "var = [sum([x[0] * (x[1] - mean[0])**2 for x in zip(prob_s0_x, data)]) / sum(prob_s0_x), sum([x[0] * (x[1] - mean[1])**2 for x in zip(prob_s1_x, data)]) / sum(prob_s1_x)]\n",
    "\n",
    "print(\"P(S_1) = \" + str(prob_s[0]) + \",  P(S_2) = \" + str(prob_s[1]))\n",
    "print(\"mean_1 = \" + str(mean[0]) + \",  mean_2 = \" + str(mean[1]))\n",
    "print(\"var_1 = \" + str(var[0]) + \",  var_2 = \" + str(var[1]))"
   ]
  },
  {
   "cell_type": "markdown",
   "metadata": {},
   "source": [
    "They are not very different, but they are closer to the true values."
   ]
  },
  {
   "cell_type": "markdown",
   "metadata": {},
   "source": [
    "g) Update `P(S_j | X_i)`. Comment on any differences or lack thereof you observe."
   ]
  },
  {
   "cell_type": "code",
   "execution_count": 55,
   "metadata": {},
   "outputs": [
    {
     "name": "stdout",
     "output_type": "stream",
     "text": [
      "point =  8.80149864699442\n",
      "probability of observing that point if it came from cluster 0 =  0.8325002424180286\n",
      "probability of observing that point if it came from cluster 1 =  0.006183490565404275\n",
      "point =  4.367602383166383\n",
      "probability of observing that point if it came from cluster 0 =  2.2937540872531964e-19\n",
      "probability of observing that point if it came from cluster 1 =  0.26232064713975023\n",
      "point =  7.674638271018117\n",
      "probability of observing that point if it came from cluster 0 =  0.07655418969097977\n",
      "probability of observing that point if it came from cluster 1 =  0.042763948659960936\n",
      "point =  5.695800261346071\n",
      "probability of observing that point if it came from cluster 0 =  9.868355342219514e-10\n",
      "probability of observing that point if it came from cluster 1 =  0.25295124269219765\n",
      "point =  6.492499757848052\n",
      "probability of observing that point if it came from cluster 0 =  1.2615169902273198e-05\n",
      "probability of observing that point if it came from cluster 1 =  0.15847113185037587\n",
      "point =  3.0742615992971447\n",
      "probability of observing that point if it came from cluster 0 =  4.27601397502436e-32\n",
      "probability of observing that point if it came from cluster 1 =  0.11128804024869773\n",
      "point =  4.568588572828494\n",
      "probability of observing that point if it came from cluster 0 =  1.1017818947529522e-17\n",
      "probability of observing that point if it came from cluster 1 =  0.2769188131784554\n",
      "point =  5.113798050000081\n",
      "probability of observing that point if it came from cluster 0 =  1.5914035764571928e-13\n",
      "probability of observing that point if it came from cluster 1 =  0.28815510992998145\n",
      "point =  9.639971592461217\n",
      "probability of observing that point if it came from cluster 0 =  0.11589058341474844\n",
      "probability of observing that point if it came from cluster 1 =  0.0009503007658921445\n",
      "point =  8.495094444215672\n",
      "probability of observing that point if it came from cluster 0 =  0.7706497481260663\n",
      "probability of observing that point if it came from cluster 1 =  0.011177538849189771\n",
      "8.80149864699442\n",
      "Probability of coming from C_1 = 0.9879933185122386\n",
      "Probability of coming from C_2 = 0.012006681487761522\n",
      "\n",
      "4.367602383166383\n",
      "Probability of coming from C_1 = 5.344348028320928e-19\n",
      "Probability of coming from C_2 = 1.0\n",
      "\n",
      "7.674638271018117\n",
      "Probability of coming from C_1 = 0.5224762148350768\n",
      "Probability of coming from C_2 = 0.4775237851649232\n",
      "\n",
      "5.695800261346071\n",
      "Probability of coming from C_1 = 2.38445050753049e-09\n",
      "Probability of coming from C_2 = 0.9999999976155496\n",
      "\n",
      "6.492499757848052\n",
      "Probability of coming from C_1 = 4.865216443645789e-05\n",
      "Probability of coming from C_2 = 0.9999513478355635\n",
      "\n",
      "3.0742615992971447\n",
      "Probability of coming from C_1 = 2.348394057963902e-31\n",
      "Probability of coming from C_2 = 1.0\n",
      "\n",
      "4.568588572828494\n",
      "Probability of coming from C_1 = 2.4317757394431355e-17\n",
      "Probability of coming from C_2 = 1.0\n",
      "\n",
      "5.113798050000081\n",
      "Probability of coming from C_1 = 3.3754708036970826e-13\n",
      "Probability of coming from C_2 = 0.9999999999996625\n",
      "\n",
      "9.639971592461217\n",
      "Probability of coming from C_1 = 0.986761319667115\n",
      "Probability of coming from C_2 = 0.013238680332885024\n",
      "\n",
      "8.495094444215672\n",
      "Probability of coming from C_1 = 0.9768194834754365\n",
      "Probability of coming from C_2 = 0.023180516524563554\n",
      "\n"
     ]
    }
   ],
   "source": [
    "prob_c0_x = []  # P(C_0 | X_i)\n",
    "prob_c1_x = []  # P(C_1 | X_i)\n",
    "prob_x = []  # P(X_i)\n",
    "\n",
    "k = 2\n",
    "\n",
    "for p in data:\n",
    "    print(\"point = \", p)\n",
    "    pdf_i = []\n",
    "\n",
    "    for j in range(k):\n",
    "        # P(X_i | C_j)\n",
    "        pdf_i.append(norm.pdf(p, mean[j], var[j]))\n",
    "        print(\"probability of observing that point if it came from cluster \" + str(j) + \" = \", pdf_i[j])\n",
    "        # P(C_j) already computed\n",
    "        prob_c[j]\n",
    "\n",
    "    # P(X_i) = P(C_0)P(X_i | C_0) + P(C_1)P(X_i | C_1)\n",
    "    prob_x = prob_c[0] * pdf_i[0] + prob_c[1] * pdf_i[1]\n",
    "\n",
    "    # P(C_j | X_i) = P(X_i | C_j)P(C_j) / P(X_i)\n",
    "    prob_c0_x.append(pdf_i[0] * prob_c[0] / prob_x)\n",
    "    prob_c1_x.append(pdf_i[1] * prob_c[1] / prob_x)\n",
    "\n",
    "probs = zip(data, prob_c0_x, prob_c1_x)\n",
    "for p in probs:\n",
    "    print(p[0])\n",
    "    print(\"Probability of coming from C_1 = \" + str(p[1]))\n",
    "    print(\"Probability of coming from C_2 = \" + str(p[2]))\n",
    "    print()\n"
   ]
  },
  {
   "cell_type": "markdown",
   "metadata": {},
   "source": [
    "It is more likely to be in cluster 1 than cluster 2."
   ]
  },
  {
   "cell_type": "markdown",
   "metadata": {},
   "source": [
    "h) Use `P(S_j | X_i)` to create a hard assignment - label each point as belonging to a specific cluster (0 or 1)"
   ]
  },
  {
   "cell_type": "code",
   "execution_count": 56,
   "metadata": {},
   "outputs": [
    {
     "name": "stdout",
     "output_type": "stream",
     "text": [
      "points in cluster 0 : [8.80149864699442, 7.674638271018117, 9.639971592461217, 8.495094444215672]\n",
      "points in cluster 1 : [4.367602383166383, 5.695800261346071, 6.492499757848052, 3.0742615992971447, 4.568588572828494, 5.113798050000081]\n"
     ]
    }
   ],
   "source": [
    "c1 = [x[0] for x in filter(lambda x: x[1] > x[2], zip(data, prob_c0_x, prob_c1_x))]\n",
    "c2 = [x[0] for x in filter(lambda x: x[1] < x[2], zip(data, prob_c0_x, prob_c1_x))]\n",
    "print(f\"points in cluster 0 : {c1}\\npoints in cluster 1 : {c2}\")\n"
   ]
  }
 ],
 "metadata": {
  "kernelspec": {
   "display_name": "Python 3",
   "language": "python",
   "name": "python3"
  },
  "language_info": {
   "codemirror_mode": {
    "name": "ipython",
    "version": 3
   },
   "file_extension": ".py",
   "mimetype": "text/x-python",
   "name": "python",
   "nbconvert_exporter": "python",
   "pygments_lexer": "ipython3",
   "version": "3.10.9"
  },
  "orig_nbformat": 4,
  "vscode": {
   "interpreter": {
    "hash": "e7370f93d1d0cde622a1f8e1c04877d8463912d04d973331ad4851f04de6915a"
   }
  }
 },
 "nbformat": 4,
 "nbformat_minor": 2
}
